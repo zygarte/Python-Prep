{
 "cells": [
  {
   "attachments": {},
   "cell_type": "markdown",
   "metadata": {},
   "source": [
    "## Flujos de Control"
   ]
  },
  {
   "attachments": {},
   "cell_type": "markdown",
   "metadata": {},
   "source": [
    "1) Crear una variable que contenga un elemento del conjunto de números enteros y luego imprimir por pantalla si es mayor o menor a cero"
   ]
  },
  {
   "cell_type": "code",
   "execution_count": 1,
   "metadata": {},
   "outputs": [
    {
     "name": "stdout",
     "output_type": "stream",
     "text": [
      "El número es mayor que cero.\n"
     ]
    }
   ],
   "source": [
    "numero_entero = 5\n",
    "if numero_entero > 0:\n",
    "    print(\"El número es mayor que cero.\")\n",
    "elif numero_entero < 0:\n",
    "    print(\"El número es menor que cero.\")\n",
    "else:\n",
    "    print(\"El número es igual a cero.\")"
   ]
  },
  {
   "attachments": {},
   "cell_type": "markdown",
   "metadata": {},
   "source": [
    "2) Crear dos variables y un condicional que informe si son del mismo tipo de dato"
   ]
  },
  {
   "cell_type": "code",
   "execution_count": 2,
   "metadata": {},
   "outputs": [
    {
     "name": "stdout",
     "output_type": "stream",
     "text": [
      "Las variables son de tipos diferentes.\n"
     ]
    }
   ],
   "source": [
    "variable1 = 5\n",
    "variable2 = \"Hola\"\n",
    "if type(variable1) == type(variable2):\n",
    "    print(\"Las variables son del mismo tipo de dato.\")\n",
    "else:\n",
    "    print(\"Las variables son de tipos diferentes.\")"
   ]
  },
  {
   "attachments": {},
   "cell_type": "markdown",
   "metadata": {},
   "source": [
    "3) Para los valores enteros del 1 al 20, imprimir por pantalla si es par o impar"
   ]
  },
  {
   "cell_type": "code",
   "execution_count": 3,
   "metadata": {},
   "outputs": [
    {
     "name": "stdout",
     "output_type": "stream",
     "text": [
      "1 es impar.\n",
      "2 es par.\n",
      "3 es impar.\n",
      "4 es par.\n",
      "5 es impar.\n",
      "6 es par.\n",
      "7 es impar.\n",
      "8 es par.\n",
      "9 es impar.\n",
      "10 es par.\n",
      "11 es impar.\n",
      "12 es par.\n",
      "13 es impar.\n",
      "14 es par.\n",
      "15 es impar.\n",
      "16 es par.\n",
      "17 es impar.\n",
      "18 es par.\n",
      "19 es impar.\n",
      "20 es par.\n"
     ]
    }
   ],
   "source": [
    "for i in range(1, 21):\n",
    "    if i % 2 == 0:\n",
    "        print(f\"{i} es par.\")\n",
    "    else:\n",
    "        print(f\"{i} es impar.\")"
   ]
  },
  {
   "attachments": {},
   "cell_type": "markdown",
   "metadata": {},
   "source": [
    "4) En un ciclo for mostrar para los valores entre 0 y 5 el resultado de elevarlo a la potencia igual a 3"
   ]
  },
  {
   "cell_type": "code",
   "execution_count": 4,
   "metadata": {},
   "outputs": [
    {
     "name": "stdout",
     "output_type": "stream",
     "text": [
      "0 elevado a la potencia 3 es 0.\n",
      "1 elevado a la potencia 3 es 1.\n",
      "2 elevado a la potencia 3 es 8.\n",
      "3 elevado a la potencia 3 es 27.\n",
      "4 elevado a la potencia 3 es 64.\n",
      "5 elevado a la potencia 3 es 125.\n"
     ]
    }
   ],
   "source": [
    "for i in range(6):\n",
    "    print(f\"{i} elevado a la potencia 3 es {i**3}.\")"
   ]
  },
  {
   "attachments": {},
   "cell_type": "markdown",
   "metadata": {},
   "source": [
    "5) Crear una variable que contenga un número entero y realizar un ciclo for la misma cantidad de ciclos"
   ]
  },
  {
   "cell_type": "code",
   "execution_count": 5,
   "metadata": {},
   "outputs": [
    {
     "name": "stdout",
     "output_type": "stream",
     "text": [
      "Iteración.\n",
      "Iteración.\n",
      "Iteración.\n",
      "Iteración.\n",
      "Iteración.\n",
      "Iteración.\n",
      "Iteración.\n"
     ]
    }
   ],
   "source": [
    "numero_entero = 7\n",
    "for _ in range(numero_entero):\n",
    "    print(\"Iteración.\")"
   ]
  },
  {
   "attachments": {},
   "cell_type": "markdown",
   "metadata": {},
   "source": [
    "6) Utilizar un ciclo while para realizar el factorial de un número guardado en una variable, sólo si la variable contiene un número entero mayor a 0"
   ]
  },
  {
   "cell_type": "code",
   "execution_count": 6,
   "metadata": {},
   "outputs": [
    {
     "name": "stdout",
     "output_type": "stream",
     "text": [
      "El factorial es: 120\n"
     ]
    }
   ],
   "source": [
    "numero_factorial = 5\n",
    "if (numero_factorial > 0 and (type(numero_factorial) == int)):\n",
    "    factorial = 1\n",
    "    while numero_factorial > 0:\n",
    "        factorial *= numero_factorial\n",
    "        numero_factorial -= 1\n",
    "    print(f\"El factorial es: {factorial}\")\n",
    "else:\n",
    "    print(f'La variable no puede usarse como factorial')"
   ]
  },
  {
   "attachments": {},
   "cell_type": "markdown",
   "metadata": {},
   "source": [
    "7) Crear un ciclo for dentro de un ciclo while"
   ]
  },
  {
   "cell_type": "code",
   "execution_count": 7,
   "metadata": {},
   "outputs": [
    {
     "name": "stdout",
     "output_type": "stream",
     "text": [
      "Contador: 0, i: 0\n",
      "Contador: 0, i: 1\n",
      "Contador: 0, i: 2\n",
      "Contador: 1, i: 0\n",
      "Contador: 1, i: 1\n",
      "Contador: 1, i: 2\n",
      "Contador: 2, i: 0\n",
      "Contador: 2, i: 1\n",
      "Contador: 2, i: 2\n"
     ]
    }
   ],
   "source": [
    "contador = 0\n",
    "while contador < 3:\n",
    "    for i in range(3):\n",
    "        print(f\"Contador: {contador}, i: {i}\")\n",
    "    contador += 1"
   ]
  },
  {
   "attachments": {},
   "cell_type": "markdown",
   "metadata": {},
   "source": [
    "8) Crear un ciclo while dentro de un ciclo for"
   ]
  },
  {
   "cell_type": "code",
   "execution_count": 8,
   "metadata": {},
   "outputs": [
    {
     "name": "stdout",
     "output_type": "stream",
     "text": [
      "Contador: 0, i: 0\n",
      "Contador: 1, i: 0\n",
      "Contador: 2, i: 0\n",
      "Contador: 0, i: 1\n",
      "Contador: 1, i: 1\n",
      "Contador: 2, i: 1\n",
      "Contador: 0, i: 2\n",
      "Contador: 1, i: 2\n",
      "Contador: 2, i: 2\n"
     ]
    }
   ],
   "source": [
    "for i in range(3):\n",
    "    contador = 0\n",
    "    while contador < 3:\n",
    "        print(f\"Contador: {contador}, i: {i}\")\n",
    "        contador += 1"
   ]
  },
  {
   "attachments": {},
   "cell_type": "markdown",
   "metadata": {},
   "source": [
    "9) Imprimir los números primos existentes entre 0 y 30"
   ]
  },
  {
   "cell_type": "code",
   "execution_count": 9,
   "metadata": {},
   "outputs": [
    {
     "name": "stdout",
     "output_type": "stream",
     "text": [
      "2\n",
      "3\n",
      "5\n",
      "7\n",
      "11\n",
      "13\n",
      "17\n",
      "19\n",
      "23\n",
      "29\n"
     ]
    }
   ],
   "source": [
    "for num in range(2, 31):\n",
    "    es_primo = True\n",
    "    for i in range(2, num):\n",
    "        if num % i == 0:\n",
    "            es_primo = False\n",
    "            break\n",
    "    if es_primo:\n",
    "        print(num)"
   ]
  },
  {
   "attachments": {},
   "cell_type": "markdown",
   "metadata": {},
   "source": [
    "10) ¿Se puede mejorar el proceso del punto 9? Utilizar las sentencias break y/ó continue para tal fin"
   ]
  },
  {
   "cell_type": "code",
   "execution_count": 10,
   "metadata": {},
   "outputs": [
    {
     "name": "stdout",
     "output_type": "stream",
     "text": [
      "2\n",
      "3\n",
      "5\n",
      "7\n",
      "11\n",
      "13\n",
      "17\n",
      "19\n",
      "23\n",
      "29\n"
     ]
    }
   ],
   "source": [
    "for num in range(2, 31):\n",
    "    for i in range(2, num):\n",
    "        if num % i == 0:\n",
    "            break\n",
    "    else:\n",
    "        print(num)"
   ]
  },
  {
   "attachments": {},
   "cell_type": "markdown",
   "metadata": {},
   "source": [
    "11) En los puntos 9 y 10, se diseño un código que encuentra números primos y además se lo optimizó. ¿Es posible saber en qué medida se optimizó?"
   ]
  },
  {
   "cell_type": "code",
   "execution_count": 11,
   "metadata": {},
   "outputs": [],
   "source": [
    "# La optimización se basa en eliminar una variable booleana y una condición dentro del bucle, \n",
    "#        lo que reduce la cantidad de operaciones\n",
    "#         y hace que el código sea más claro y eficiente."
   ]
  },
  {
   "attachments": {},
   "cell_type": "markdown",
   "metadata": {},
   "source": [
    "12) Aplicando continue, armar un ciclo while que solo imprima los valores divisibles por 12, dentro del rango de números de 100 a 300"
   ]
  },
  {
   "cell_type": "code",
   "execution_count": 13,
   "metadata": {},
   "outputs": [
    {
     "name": "stdout",
     "output_type": "stream",
     "text": [
      "108\n",
      "120\n",
      "132\n",
      "144\n",
      "156\n",
      "168\n",
      "180\n",
      "192\n",
      "204\n",
      "216\n",
      "228\n",
      "240\n",
      "252\n",
      "264\n",
      "276\n",
      "288\n",
      "300\n"
     ]
    }
   ],
   "source": [
    "numero = 100\n",
    "while numero <= 300:\n",
    "    numero += 1\n",
    "    if numero % 12 != 0:\n",
    "        continue\n",
    "        \n",
    "    print(numero)\n",
    "    "
   ]
  },
  {
   "attachments": {},
   "cell_type": "markdown",
   "metadata": {},
   "source": [
    "13) Utilizar la función **input()** que permite hacer ingresos por teclado, para encontrar números primos y dar la opción al usario de buscar el siguiente"
   ]
  },
  {
   "cell_type": "code",
   "execution_count": 14,
   "metadata": {},
   "outputs": [
    {
     "name": "stdout",
     "output_type": "stream",
     "text": [
      "Es primo.\n",
      "Es primo.\n",
      "Es primo.\n",
      "No es primo.\n",
      "No es primo.\n"
     ]
    }
   ],
   "source": [
    "def es_primo(num):\n",
    "    for i in range(2, num):\n",
    "        if num % i == 0:\n",
    "            return False\n",
    "    return True\n",
    "\n",
    "while True:\n",
    "    entrada = input(\"Ingrese un número (o 'q' para salir): \")\n",
    "    if entrada == 'q':\n",
    "        break\n",
    "    try:\n",
    "        numero = int(entrada)\n",
    "        if es_primo(numero):\n",
    "            print(\"Es primo.\")\n",
    "        else:\n",
    "            print(\"No es primo.\")\n",
    "    except ValueError:\n",
    "        print(\"Entrada inválida. Por favor, ingrese un número válido.\")"
   ]
  },
  {
   "attachments": {},
   "cell_type": "markdown",
   "metadata": {},
   "source": [
    "14) Crear un ciclo while que encuentre dentro del rango de 100 a 300 el primer número divisible por 3 y además múltiplo de 6"
   ]
  },
  {
   "cell_type": "code",
   "execution_count": 15,
   "metadata": {},
   "outputs": [
    {
     "name": "stdout",
     "output_type": "stream",
     "text": [
      "El primer número divisible por 3 y múltiplo de 6 es: 102\n"
     ]
    }
   ],
   "source": [
    "numero = 100\n",
    "while numero <= 300:\n",
    "    if numero % 3 == 0 and numero % 6 == 0:\n",
    "        print(f\"El primer número divisible por 3 y múltiplo de 6 es: {numero}\")\n",
    "        break\n",
    "    numero += 1"
   ]
  }
 ],
 "metadata": {
  "interpreter": {
   "hash": "c85384e4cb51c8b72350f3a8712cc8351fdc3955e32a27f9b60c6242ab125f01"
  },
  "kernelspec": {
   "display_name": "Python 3 (ipykernel)",
   "language": "python",
   "name": "python3"
  },
  "language_info": {
   "codemirror_mode": {
    "name": "ipython",
    "version": 3
   },
   "file_extension": ".py",
   "mimetype": "text/x-python",
   "name": "python",
   "nbconvert_exporter": "python",
   "pygments_lexer": "ipython3",
   "version": "3.11.5"
  }
 },
 "nbformat": 4,
 "nbformat_minor": 4
}
